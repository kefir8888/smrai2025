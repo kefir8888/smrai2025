{
 "cells": [
  {
   "cell_type": "markdown",
   "id": "261a5ebc",
   "metadata": {},
   "source": [
    "### Linear MPC\n",
    "\n"
   ]
  },
  {
   "cell_type": "markdown",
   "id": "c4faa24d",
   "metadata": {},
   "source": [
    "#### Задача 1\n",
    "\n",
    "Выведите линейный MPC для следования траектории $X = \\{x_{i+1}^*\\}_{i=0}^{N-1}$. Вывод слегка обобщает лекционный результат. "
   ]
  },
  {
   "cell_type": "markdown",
   "id": "b8ec026c",
   "metadata": {},
   "source": [
    "YOUR MARKDOWN HERE"
   ]
  },
  {
   "cell_type": "markdown",
   "id": "a9e2f6a3",
   "metadata": {},
   "source": [
    "#### Задача 2\n",
    "\n",
    "Реализуйте функцию generate_controls, следуя выводу из первой задачи. Она должна генерировать для заданной системы последовательность управлений, оптимальную в смысле квадратичной функции стоимости. Горизонт известен, начальное состояние известно.\n",
    "\n",
    "Для тестирования задайте\n",
    "- траекторию X_star (икс со звездой, желаемая траектория)\n",
    "- матрицу системы, соответствующую динамической точке (дискретизованной, dt возьмите 1 секунду)\n",
    "- матрицу управления для нее"
   ]
  },
  {
   "cell_type": "code",
   "execution_count": null,
   "id": "0667c5cd",
   "metadata": {},
   "outputs": [],
   "source": [
    "import numpy as np\n",
    "\n",
    "def generate_controls(x_0, X_star, A, B, N, Q, R):\n",
    "    #A_hat = np.zeros(...)\n",
    "    \n",
    "    #YOUR CODE BELOW\n",
    "    \n",
    "    #YOUR CODE ABOVE\n",
    "        \n",
    "    return U\n",
    "\n",
    "A = np.array(...)\n",
    "\n",
    "B = np.array(...)\n",
    "\n",
    "Q = np.eye(2)\n",
    "\n",
    "R = np.eye(1)\n",
    "\n",
    "horizon = 3\n",
    "\n",
    "x_0 = np.array([[10], [1]])\n",
    "\n",
    "X_star = ...\n",
    "\n",
    "print(generate_controls(x_0, X_star, A, B, horizon, Q, R))"
   ]
  },
  {
   "cell_type": "markdown",
   "id": "7a708f98",
   "metadata": {},
   "source": [
    "#### Задача 3\n",
    "\n",
    "Реализуйте ту же функцию generate_controls, но поставив задачу поиска оптимальной последовательности управлений как задачу квадратичного программирования и решив ее с помощью *solve_qp*. Учтите ограничения на управление (F_max = 3 Н)."
   ]
  },
  {
   "cell_type": "code",
   "execution_count": null,
   "id": "0366d04e",
   "metadata": {},
   "outputs": [],
   "source": [
    "import numpy as np\n",
    "from qpsolvers import solve_qp\n",
    "\n",
    "def generate_controls\n",
    "\n"
   ]
  },
  {
   "cell_type": "markdown",
   "id": "908ea567",
   "metadata": {},
   "source": [
    "#### Задача 4\n",
    "\n",
    "Примените функцию generate_controls для управления динамической точкой с массой. Визуализируйте результат.\n",
    "\n",
    "Попробуйте горизонт 5, 10, 15. Измерьте время вычисления траектории во всех этих случаях."
   ]
  },
  {
   "cell_type": "code",
   "execution_count": null,
   "id": "629b2070",
   "metadata": {},
   "outputs": [],
   "source": [
    "# YOUR CODE HERE"
   ]
  },
  {
   "cell_type": "code",
   "execution_count": null,
   "id": "6d72bc4a",
   "metadata": {},
   "outputs": [],
   "source": []
  }
 ],
 "metadata": {
  "kernelspec": {
   "display_name": "Python 3",
   "language": "python",
   "name": "python3"
  },
  "language_info": {
   "codemirror_mode": {
    "name": "ipython",
    "version": 3
   },
   "file_extension": ".py",
   "mimetype": "text/x-python",
   "name": "python",
   "nbconvert_exporter": "python",
   "pygments_lexer": "ipython3",
   "version": "3.13.1"
  }
 },
 "nbformat": 4,
 "nbformat_minor": 5
}
