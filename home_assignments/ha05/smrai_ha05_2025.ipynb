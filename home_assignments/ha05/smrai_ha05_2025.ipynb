{
 "cells": [
  {
   "cell_type": "markdown",
   "id": "19282f05",
   "metadata": {},
   "source": [
    "### Домашнее задание 5: обратный маятник\n",
    "\n",
    "Нужно будет пользоваться кодом с семинара, он лежит в репозитории.\n",
    "\n",
    "Будем рассматривать обратный маятник длиной 1 $м$ с грузом 1 $кг$ в поле тяготения 10 $м/с^2$, просимулированный с шагом 0.01 $с$."
   ]
  },
  {
   "cell_type": "markdown",
   "id": "e496b85f",
   "metadata": {},
   "source": [
    "#### Задача 1\n",
    "\n",
    "Реализуйте контроллер, который стабилизирует обратный маятник из начального состояния (3.0, 0) за как можно меньшее время (пока что просто на вид)"
   ]
  },
  {
   "cell_type": "code",
   "execution_count": null,
   "id": "f5f20043",
   "metadata": {},
   "outputs": [],
   "source": [
    "# YOUR CODE HERE\n",
    "\n"
   ]
  },
  {
   "cell_type": "markdown",
   "id": "a54ce2f4",
   "metadata": {},
   "source": [
    "#### Задача 2\n",
    "\n",
    "Реализуйте функцию, в которую передается история угла маятника от времени, и она возвращает, начиная с какого момента угол отклонения маятника не превышал $\\varepsilon$ (это тоже входной параметр).\n",
    "\n",
    "Измерьте время стабилизации своим контроллером при $\\varepsilon = 0.1$ рад."
   ]
  },
  {
   "cell_type": "code",
   "execution_count": null,
   "id": "151a902e",
   "metadata": {},
   "outputs": [],
   "source": [
    "# YOUR CODE HERE\n",
    "\n"
   ]
  },
  {
   "cell_type": "markdown",
   "id": "cde090ae",
   "metadata": {},
   "source": [
    "#### Задача 3\n",
    "\n",
    "Реализуйте функцию, которая многократно запускает симуляцию с разными начальными состояниями и находит максимальное время стабилизации среди этих запусков. Рассмотрите 20 разных начальных значений угла от $-\\pi$ до $\\pi$ и 20 разных значений скорости от $-10$ рад./с до $-10$ рад./с. Нарисуйте время стабилизации для разных начальных условий в виде тепловой карты."
   ]
  },
  {
   "cell_type": "code",
   "execution_count": null,
   "id": "67dd8522",
   "metadata": {},
   "outputs": [],
   "source": [
    "# YOUR CODE HERE\n",
    "\n"
   ]
  }
 ],
 "metadata": {
  "kernelspec": {
   "display_name": "Python 3",
   "language": "python",
   "name": "python3"
  },
  "language_info": {
   "codemirror_mode": {
    "name": "ipython",
    "version": 3
   },
   "file_extension": ".py",
   "mimetype": "text/x-python",
   "name": "python",
   "nbconvert_exporter": "python",
   "pygments_lexer": "ipython3",
   "version": "3.13.1"
  }
 },
 "nbformat": 4,
 "nbformat_minor": 5
}
